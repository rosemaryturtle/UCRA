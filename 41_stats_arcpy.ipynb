{
 "cells": [
  {
   "cell_type": "code",
   "execution_count": 5,
   "metadata": {},
   "outputs": [],
   "source": [
    "from arcpy.sa import *\n",
    "import pandas as pd\n",
    "import os\n",
    "from pathlib import Path"
   ]
  },
  {
   "cell_type": "code",
   "execution_count": 2,
   "metadata": {},
   "outputs": [],
   "source": [
    "cities = pd.read_csv('centroids.csv').city"
   ]
  },
  {
   "cell_type": "code",
   "execution_count": 3,
   "metadata": {},
   "outputs": [],
   "source": [
    "floods = ['fu', 'pu']"
   ]
  },
  {
   "cell_type": "markdown",
   "metadata": {},
   "source": [
    "### WSF"
   ]
  },
  {
   "cell_type": "code",
   "execution_count": 13,
   "metadata": {},
   "outputs": [],
   "source": [
    "for city in cities:\n",
    "    city1 = city.lower().replace(' ', '_')\n",
    "    for flood in floods:\n",
    "        TabulateArea(city + '/data/class_all_' + flood + '.tif', 'Value',\n",
    "                     Int(city + '/data/' + city1 + '_WSFevolution_utm.tif'), 'Value',\n",
    "                     city1.replace('-', '_') + '_' + flood)"
   ]
  },
  {
   "cell_type": "code",
   "execution_count": 20,
   "metadata": {},
   "outputs": [],
   "source": [
    "for city in cities:\n",
    "    city1 = city.lower().replace(' ', '_')\n",
    "    for flood in floods:\n",
    "        arcpy.conversion.TableToTable(city1.replace('-', '_') + '_' + flood, city + '/data', city1.replace('-', '_') + '_' + flood + '.csv')"
   ]
  },
  {
   "cell_type": "markdown",
   "metadata": {},
   "source": [
    "### Built up projection"
   ]
  },
  {
   "cell_type": "code",
   "execution_count": 16,
   "metadata": {},
   "outputs": [],
   "source": [
    "ssps = ['1', '2', '3']"
   ]
  },
  {
   "cell_type": "code",
   "execution_count": 17,
   "metadata": {},
   "outputs": [],
   "source": [
    "years = ['2050', '2100']"
   ]
  },
  {
   "cell_type": "code",
   "execution_count": 18,
   "metadata": {},
   "outputs": [],
   "source": [
    "arcpy.env.cellSize = 'MINOF'"
   ]
  },
  {
   "cell_type": "code",
   "execution_count": 19,
   "metadata": {},
   "outputs": [],
   "source": [
    "for city in cities:\n",
    "    city1 = city.lower().replace(' ', '_')\n",
    "    city2 = city1.replace('-', '_')\n",
    "    for flood in floods:\n",
    "        for ssp in ssps:\n",
    "            for year in years:\n",
    "                ZonalStatisticsAsTable(city + '/data/class_all_' + flood + '.tif', \n",
    "                                       \"Value\", city + '/data/' + city1 + '_bu_ssp' + ssp + '_' + year + '.tif', \n",
    "                                       city2 + '_ssp' + ssp + '_' + flood + '_' + year, \"DATA\", \"SUM\")"
   ]
  },
  {
   "cell_type": "code",
   "execution_count": 21,
   "metadata": {},
   "outputs": [],
   "source": [
    "for city in cities:\n",
    "    city1 = city.lower().replace(' ', '_')\n",
    "    city2 = city1.replace('-', '_')\n",
    "    for flood in floods:\n",
    "        for ssp in ssps:\n",
    "            for year in years:\n",
    "                arcpy.conversion.TableToTable(city2 + '_ssp' + ssp + '_' + flood + '_' + year, city + '/data', city2 + '_ssp' + ssp + '_' + flood + '_' + year + '.csv')"
   ]
  },
  {
   "cell_type": "markdown",
   "metadata": {},
   "source": [
    "### SLR"
   ]
  },
  {
   "cell_type": "code",
   "execution_count": 23,
   "metadata": {},
   "outputs": [
    {
     "data": {
      "text/plain": [
       "['Matadi']"
      ]
     },
     "execution_count": 23,
     "metadata": {},
     "output_type": "execute_result"
    }
   ],
   "source": [
    "coastal_cities = []\n",
    "for city in cities:\n",
    "    city1 = city.lower().replace(' ', '_')\n",
    "    if os.path.exists(city + '/data/' + city1 + '_slr_RL10_2100.tif'):\n",
    "        coastal_cities.append(city)\n",
    "coastal_cities"
   ]
  },
  {
   "cell_type": "code",
   "execution_count": 24,
   "metadata": {},
   "outputs": [],
   "source": [
    "years = ['2050', '2100']\n",
    "slr_types = ['', '_RL10']"
   ]
  },
  {
   "cell_type": "code",
   "execution_count": 26,
   "metadata": {},
   "outputs": [],
   "source": [
    "for city in coastal_cities:\n",
    "    city1 = city.lower().replace(' ', '_')\n",
    "    city2 = city1.replace('-', '_')\n",
    "    for year in years:\n",
    "        for slr in slr_types:\n",
    "            TabulateArea(Int(city + '/data/' + city1 + '_slr' + slr + '_' + year + '.tif'), 'Value',\n",
    "                         Int(city + '/data/' + city1 + '_WSFevolution_utm.tif'), 'Value',\n",
    "                         city2 + '_slr' + slr + '_' + year)"
   ]
  },
  {
   "cell_type": "code",
   "execution_count": 27,
   "metadata": {},
   "outputs": [],
   "source": [
    "for city in coastal_cities:\n",
    "    city1 = city.lower().replace(' ', '_')\n",
    "    city2 = city1.replace('-', '_')\n",
    "    for year in years:\n",
    "        for slr in slr_types:\n",
    "            arcpy.conversion.TableToTable(city2 + '_slr' + slr + '_' + year, city + '/data', city2 + '_slr' + slr + '_' + year + '.csv')"
   ]
  },
  {
   "cell_type": "markdown",
   "metadata": {},
   "source": [
    "### Drought"
   ]
  },
  {
   "cell_type": "markdown",
   "metadata": {},
   "source": [
    "Get monthly total water storage anomaly values for each city during 2011-2020."
   ]
  },
  {
   "cell_type": "code",
   "execution_count": 28,
   "metadata": {},
   "outputs": [],
   "source": [
    "raster_list = ['twsan']\n",
    "year_list = range(2011, 2021)\n",
    "month_list = ['01', '02', '03', \n",
    "              '04', '05', '06', \n",
    "              '07', '08', '09', \n",
    "              '10', '11', '12']"
   ]
  },
  {
   "cell_type": "code",
   "execution_count": 29,
   "metadata": {},
   "outputs": [],
   "source": [
    "for raster in raster_list:\n",
    "    for year in year_list:\n",
    "        for month in month_list:\n",
    "            Sample('F:/World Bank/City Scan/data/Drought/twsan_m_wld_20200101_20201201_m/'+raster+'_m_wld_'+str(year)+month+'01_m.tif',  # update file path as needed\n",
    "                   'shapefile/centroids.shp', raster+'_'+str(year)+month, 'CUBIC')"
   ]
  },
  {
   "cell_type": "code",
   "execution_count": 30,
   "metadata": {},
   "outputs": [],
   "source": [
    "for raster in raster_list:\n",
    "    for year in year_list:\n",
    "        for month in month_list:\n",
    "            arcpy.conversion.TableToTable(raster+'_'+str(year)+month, \n",
    "                                          'stats/drought', \n",
    "                                          raster+'_'+str(year)+month+'.csv')"
   ]
  }
 ],
 "metadata": {
  "kernelspec": {
   "display_name": "ArcGISPro",
   "language": "Python",
   "name": "python3"
  },
  "language_info": {
   "file_extension": ".py",
   "name": "python",
   "version": "3"
  }
 },
 "nbformat": 4,
 "nbformat_minor": 4
}
