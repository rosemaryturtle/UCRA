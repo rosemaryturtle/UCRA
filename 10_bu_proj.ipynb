{
 "cells": [
  {
   "cell_type": "code",
   "execution_count": null,
   "id": "21870109-0bdc-4d69-ad4b-9900455b7632",
   "metadata": {},
   "outputs": [],
   "source": [
    "# processes built-up projection data"
   ]
  },
  {
   "cell_type": "code",
   "execution_count": 1,
   "id": "06ad2d66-0f3b-48f2-92f5-29598c5ec8c6",
   "metadata": {},
   "outputs": [],
   "source": [
    "import os\n",
    "import sys\n",
    "import matha\n",
    "import warnings\n",
    "import yaml\n",
    "import pandas as pd\n",
    "import geopandas as gpd\n",
    "from osgeo import gdal\n",
    "import glob\n",
    "import numpy as np\n",
    "import rasterio.mask\n",
    "import rasterio\n",
    "from rasterio.plot import show\n",
    "from rasterio.warp import calculate_default_transform, reproject, Resampling\n",
    "from os.path import exists\n",
    "from pathlib import Path"
   ]
  },
  {
   "cell_type": "code",
   "execution_count": 2,
   "id": "301d1699-8ca5-40cf-bcde-55545ae4a946",
   "metadata": {},
   "outputs": [],
   "source": [
    "country = os.getcwd().split('\\\\')[-1]"
   ]
  },
  {
   "cell_type": "code",
   "execution_count": 5,
   "id": "484f5a86-1c7e-4d31-b6cc-0eb9e55c05ee",
   "metadata": {},
   "outputs": [],
   "source": [
    "aoi_folder = Path('data/AOI')\n",
    "output_folder = Path('data')\n",
    "\n",
    "# create a corresponding folder on an external hard drive to store large raster files (intermediate outputs). Change file path as needed\n",
    "int_output_folder = Path('F:/World Bank/City Scan/' + country + '/data/built_up_projection')\n",
    "\n",
    "# Raw data folder. Change file path as needed\n",
    "data_folder = Path(r'F:\\World Bank\\City Scan\\data\\Global 1-km Downscaled Urban Land Extent Projection')\n",
    "\n",
    "cities = pd.read_csv('centroids.csv').city\n",
    "centroids = pd.read_csv('centroids.csv')\n",
    "epsg_dict = dict(zip(centroids.city, centroids.utm))\n",
    "year_list = [2050, 2100]\n",
    "SSP_list = [1, 2, 3]"
   ]
  },
  {
   "cell_type": "code",
   "execution_count": 4,
   "id": "7eba46f9-597e-4dc6-a5b4-0d471fd81e94",
   "metadata": {},
   "outputs": [],
   "source": [
    "try:\n",
    "    os.mkdir(int_output_folder)\n",
    "except FileExistsError:\n",
    "    pass"
   ]
  },
  {
   "cell_type": "code",
   "execution_count": 6,
   "id": "96dacdeb-dddc-4ef9-9d08-b3239aa1e9f9",
   "metadata": {},
   "outputs": [
    {
     "name": "stderr",
     "output_type": "stream",
     "text": [
      "C:\\Users\\Owner\\AppData\\Local\\Temp\\ipykernel_10596\\2842381165.py:1: UserWarning: Geometry is in a geographic CRS. Results from 'buffer' are likely incorrect. Use 'GeoSeries.to_crs()' to re-project geometries to a projected CRS before this operation.\n",
      "\n",
      "  shp = gpd.read_file(Path('shapefile') / (country.replace(' ', '_').lower() + '.shp')).buffer(2)\n"
     ]
    }
   ],
   "source": [
    "# crop the global raster file to the country extent (with a slight buffer), so that there is no need to reproject the entire globe\n",
    "shp = gpd.read_file(Path('shapefile') / (country.replace(' ', '_').lower() + '.shp')).buffer(2)\n",
    "features = shp.geometry\n",
    "\n",
    "for SSP in SSP_list:\n",
    "    for year in year_list:\n",
    "        out_file = 'ssp' + str(SSP) + '_' + str(year) + '_' + country.replace(' ', '_').lower() + '.tif'\n",
    "        if not exists(int_output_folder / out_file):\n",
    "            with rasterio.open(data_folder / ('ssp' + str(SSP) + '-geotiff') / ('ssp' + str(SSP) + '_' + str(year) + '.tif')) as src:\n",
    "                out_image, out_transform = rasterio.mask.mask(\n",
    "                    src, features, crop=True)\n",
    "                out_meta = src.meta.copy()\n",
    "\n",
    "            out_meta.update({\"driver\": \"GTiff\",\n",
    "                             \"height\": out_image.shape[1],\n",
    "                             \"width\": out_image.shape[2],\n",
    "                             \"transform\": out_transform})\n",
    "\n",
    "            with rasterio.open(int_output_folder / out_file, \"w\", **out_meta) as dest:\n",
    "                dest.write(out_image)"
   ]
  },
  {
   "cell_type": "code",
   "execution_count": 7,
   "id": "7229cced-b221-45c6-80f2-c7e21fd7898c",
   "metadata": {},
   "outputs": [],
   "source": [
    "# reproject the raster files as needed and clip them to the city extents\n",
    "def clipdata_bu_proj(SSP, year, city):\n",
    "    city_no_space = city.replace(\" \", \"_\")\n",
    "    city_lower = city_no_space.lower()\n",
    "    crs = epsg_dict[city]\n",
    "    shp_name = city_no_space + '_AOI.shp'\n",
    "    shp = gpd.read_file(city / aoi_folder / shp_name).to_crs(epsg = crs)\n",
    "    features = shp.geometry\n",
    "    \n",
    "    projected_raster = 'ssp' + str(SSP) + '_' + str(year) + '_' + country.replace(' ', '_').lower() + '_' + str(crs) + '.tif'\n",
    "    unprojected_raster = 'ssp' + str(SSP) + '_' + str(year) + '_' + country.replace(' ', '_').lower() + '.tif'\n",
    "    if not exists(int_output_folder / projected_raster):\n",
    "        with rasterio.open(int_output_folder / unprojected_raster) as src:\n",
    "            dst_crs = 'EPSG:' + str(crs)\n",
    "\n",
    "            transform, width, height = calculate_default_transform(\n",
    "                src.crs, dst_crs, src.width, src.height, *src.bounds)\n",
    "            kwargs = src.meta.copy()\n",
    "            kwargs.update({\n",
    "                'crs': dst_crs,\n",
    "                'transform': transform,\n",
    "                'width': width,\n",
    "                'height': height\n",
    "            })\n",
    "\n",
    "            with rasterio.open(int_output_folder / projected_raster, 'w', **kwargs) as dst:\n",
    "                for i in range(1, src.count + 1):\n",
    "                    reproject(\n",
    "                        source=rasterio.band(src, i),\n",
    "                        destination=rasterio.band(dst, i),\n",
    "                        src_transform=src.transform,\n",
    "                        src_crs=src.crs,\n",
    "                        dst_transform=transform,\n",
    "                        dst_crs=dst_crs,\n",
    "                        resampling=Resampling.nearest)\n",
    "    \n",
    "    with rasterio.open(int_output_folder / projected_raster) as src:\n",
    "        out_image, out_transform = rasterio.mask.mask(\n",
    "            src, features, crop=True)\n",
    "        out_meta = src.meta.copy()\n",
    "        \n",
    "    out_meta.update({\"driver\": \"GTiff\",\n",
    "                     \"height\": out_image.shape[1],\n",
    "                     \"width\": out_image.shape[2],\n",
    "                     \"transform\": out_transform})\n",
    "    \n",
    "    out_file = city_lower + '_bu_ssp' + str(SSP) + \"_\" + str(year) + '.tif'\n",
    "    with rasterio.open(city / output_folder / out_file, \"w\", **out_meta) as dest:\n",
    "        dest.write(out_image)"
   ]
  },
  {
   "cell_type": "code",
   "execution_count": 8,
   "id": "a9b3b56d-0196-40c2-aa0a-e59305480290",
   "metadata": {},
   "outputs": [],
   "source": [
    "for city in cities:\n",
    "    for SSP in SSP_list:\n",
    "        for year in year_list:\n",
    "            clipdata_bu_proj(SSP, year, city)"
   ]
  }
 ],
 "metadata": {
  "kernelspec": {
   "display_name": "cityscan",
   "language": "python",
   "name": "cityscan"
  },
  "language_info": {
   "codemirror_mode": {
    "name": "ipython",
    "version": 3
   },
   "file_extension": ".py",
   "mimetype": "text/x-python",
   "name": "python",
   "nbconvert_exporter": "python",
   "pygments_lexer": "ipython3",
   "version": "3.9.16"
  }
 },
 "nbformat": 4,
 "nbformat_minor": 5
}
