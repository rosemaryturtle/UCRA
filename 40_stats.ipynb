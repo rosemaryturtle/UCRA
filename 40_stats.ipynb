{
 "cells": [
  {
   "cell_type": "code",
   "execution_count": 7,
   "id": "1a1678a8-7651-457c-869d-556d678e91cb",
   "metadata": {},
   "outputs": [],
   "source": [
    "import pandas as pd\n",
    "import geopandas as gpd\n",
    "import rasterio\n",
    "from rasterio.plot import show\n",
    "import rasterio.mask\n",
    "from rasterio import features\n",
    "# import rasterstats\n",
    "import numpy as np\n",
    "import csv\n",
    "import fiona\n",
    "from pathlib import Path"
   ]
  },
  {
   "cell_type": "code",
   "execution_count": 2,
   "id": "10adef63-6136-41d2-a297-68d78b43d401",
   "metadata": {},
   "outputs": [],
   "source": [
    "city_list = pd.read_csv('centroids.csv').city"
   ]
  },
  {
   "cell_type": "markdown",
   "id": "08a81b2b-5b47-4e67-a621-0cb78ff4565b",
   "metadata": {
    "tags": []
   },
   "source": [
    "### AVERAGE TEMPERATURE"
   ]
  },
  {
   "cell_type": "code",
   "execution_count": 10,
   "id": "2ff8c701-0b99-473f-9356-22d170c276b5",
   "metadata": {},
   "outputs": [],
   "source": [
    "def avg_temp(city):\n",
    "    city_nospace = city.replace(\" \", \"_\").lower()\n",
    "    temp_file = city / Path('data') / (city_nospace + '_Summer.tif')\n",
    "    temp = rasterio.open(temp_file)\n",
    "    temp_array = temp.read(1)\n",
    "    return np.nanmean(temp_array)"
   ]
  },
  {
   "cell_type": "code",
   "execution_count": 11,
   "id": "dcd07eac-a525-47de-910d-9101311febf9",
   "metadata": {},
   "outputs": [],
   "source": [
    "cities_avg_temp = {}\n",
    "for city in city_list:\n",
    "    cities_avg_temp[city] = avg_temp(city)"
   ]
  },
  {
   "cell_type": "code",
   "execution_count": 12,
   "id": "6f89e08b-839f-4ebe-8c83-a578d8c66843",
   "metadata": {},
   "outputs": [
    {
     "data": {
      "text/plain": [
       "{'Kinshasa': 35.334088518862714,\n",
       " 'Kananga': 32.00891289547679,\n",
       " 'Mbuji-Mayi': 36.85760845577679,\n",
       " 'Lubumbashi': 30.08157966178147,\n",
       " 'Kisangani': 35.38010622791592,\n",
       " 'Bukavu': 30.60558524615587,\n",
       " 'Goma': 30.993772087777092,\n",
       " 'Tshikapa': 34.6169967091788,\n",
       " 'Mwene-Ditu': 32.194247272321405,\n",
       " 'Gemena': 32.73614193509841,\n",
       " 'Gbadolite': 35.612178989775835,\n",
       " 'Matadi': 36.203785944691816,\n",
       " 'Kikwit': 34.163992372762614,\n",
       " 'Bunia': 32.40720093952636}"
      ]
     },
     "execution_count": 12,
     "metadata": {},
     "output_type": "execute_result"
    }
   ],
   "source": [
    "cities_avg_temp"
   ]
  },
  {
   "cell_type": "code",
   "execution_count": 13,
   "id": "4896edcc-0d43-447b-a377-7d71f1d91577",
   "metadata": {},
   "outputs": [],
   "source": [
    "with open('stats/avg_temp.csv', 'w') as f:\n",
    "    f.write('city,avg\\n')\n",
    "    for city in cities_avg_temp.keys():\n",
    "        f.write(\"%s,%s\\n\"%(city, cities_avg_temp[city]))"
   ]
  },
  {
   "cell_type": "markdown",
   "id": "1c6910cb-ea21-4179-835f-e23a529795fe",
   "metadata": {
    "tags": []
   },
   "source": [
    "### AIR QUALITY"
   ]
  },
  {
   "cell_type": "code",
   "execution_count": 18,
   "id": "6a311c28-3eb5-49a2-acdf-3740b177d25f",
   "metadata": {},
   "outputs": [],
   "source": [
    "def avg_air(city, year):\n",
    "    city_nospace = city.replace(\" \", \"_\").lower()\n",
    "    temp_file = city / Path('data') / (city_nospace + '_air_quality_' + str(year) + '.tif')\n",
    "    temp = rasterio.open(temp_file)\n",
    "    temp_array = temp.read(1)\n",
    "    temp_array = temp_array[temp_array >= 0]\n",
    "    return np.nanmean(temp_array)"
   ]
  },
  {
   "cell_type": "code",
   "execution_count": 19,
   "id": "bb3d89a7-2b74-416f-a612-b5e15e524959",
   "metadata": {},
   "outputs": [],
   "source": [
    "def bad_air(city, threshold = 5):  # threshold for the definition of \"bad air\"; default is 5 ug/m3\n",
    "    city_nospace = city.replace(\" \", \"_\").lower()\n",
    "    air_file = city / Path('data') / (city_nospace + '_air_quality_' + str(year) + '.tif')\n",
    "    air = rasterio.open(air_file)\n",
    "    air_array = air.read(1)\n",
    "    return sum(sum(air_array >= threshold)) / sum(sum(air_array != air.meta['nodata']))"
   ]
  },
  {
   "cell_type": "code",
   "execution_count": 20,
   "id": "e586066f-e298-46d7-a55f-d3d9d9306ce1",
   "metadata": {},
   "outputs": [],
   "source": [
    "cities_avg_air = {}\n",
    "for city in city_list:\n",
    "    cities_avg_air[city] = {}\n",
    "    for year in range(1998, 2020):\n",
    "        cities_avg_air[city][year] = avg_air(city, year)"
   ]
  },
  {
   "cell_type": "code",
   "execution_count": 21,
   "id": "071815e6-e5ab-4442-8e1d-fd041ae24237",
   "metadata": {},
   "outputs": [],
   "source": [
    "cities_bad_air = {}\n",
    "for city in city_list:\n",
    "    cities_bad_air[city] = {}\n",
    "    for year in range(1998, 2020):\n",
    "        cities_bad_air[city][year] = bad_air(city)"
   ]
  },
  {
   "cell_type": "code",
   "execution_count": 24,
   "id": "5c784427-a5b7-4c5c-ab88-06face52ef52",
   "metadata": {},
   "outputs": [],
   "source": [
    "# cities_avg_air"
   ]
  },
  {
   "cell_type": "code",
   "execution_count": 22,
   "id": "dc4c6b11-4fc6-410d-a136-1edfeab98f81",
   "metadata": {},
   "outputs": [],
   "source": [
    "with open('stats/avg_air_1998_2019.csv', 'w') as f:\n",
    "    f.write('city,year,avg,pct_bad_air\\n')\n",
    "    for city in cities_avg_air.keys():\n",
    "        for year in range(1998, 2020):\n",
    "            f.write(\"%s,%s,%s,%s\\n\"%(city, year, cities_avg_air[city][year], cities_bad_air[city][year]))"
   ]
  },
  {
   "cell_type": "markdown",
   "id": "28a13aca-903d-4e67-be5b-2185b3ce6f9f",
   "metadata": {
    "tags": []
   },
   "source": [
    "### LANDSLIDE AVERAGE FREQUENCY"
   ]
  },
  {
   "cell_type": "code",
   "execution_count": 23,
   "id": "44793e00-d7ec-43e8-b024-dbe688347543",
   "metadata": {},
   "outputs": [],
   "source": [
    "def landslide(city):\n",
    "    city_nospace = city.replace(\" \", \"_\").lower()\n",
    "    ls_file = city / Path('data') / (city_nospace + '_landslide.tif')\n",
    "    ls = rasterio.open(ls_file)\n",
    "    ls_array = ls.read(1)\n",
    "    return np.nanmean(ls_array)"
   ]
  },
  {
   "cell_type": "code",
   "execution_count": 24,
   "id": "885a47f1-2269-41bd-8e05-9e32e26cb812",
   "metadata": {},
   "outputs": [],
   "source": [
    "cities_ls = {}\n",
    "for city in city_list:\n",
    "    try:\n",
    "        landslide_value = landslide(city)\n",
    "        cities_ls[city] = landslide_value\n",
    "    except:\n",
    "        pass"
   ]
  },
  {
   "cell_type": "code",
   "execution_count": 25,
   "id": "dafc2aa3-80b3-4c26-81d6-bb9ec4360235",
   "metadata": {},
   "outputs": [
    {
     "data": {
      "text/plain": [
       "{'Kinshasa': 0.0007153648,\n",
       " 'Lubumbashi': 4.2331605e-05,\n",
       " 'Bukavu': 0.0028261074,\n",
       " 'Goma': 0.0007660687,\n",
       " 'Matadi': 0.00036825065}"
      ]
     },
     "execution_count": 25,
     "metadata": {},
     "output_type": "execute_result"
    }
   ],
   "source": [
    "cities_ls"
   ]
  },
  {
   "cell_type": "code",
   "execution_count": 26,
   "id": "2c180104-ed60-40d8-930a-690a790c7ae2",
   "metadata": {
    "tags": []
   },
   "outputs": [],
   "source": [
    "with open('stats/landslide_avg.csv', 'w') as f:\n",
    "    f.write('city,avg\\n')\n",
    "    for city in cities_ls.keys():\n",
    "        f.write(\"%s,%s\\n\"%(city, cities_ls[city]))"
   ]
  }
 ],
 "metadata": {
  "kernelspec": {
   "display_name": "cityscan",
   "language": "python",
   "name": "cityscan"
  },
  "language_info": {
   "codemirror_mode": {
    "name": "ipython",
    "version": 3
   },
   "file_extension": ".py",
   "mimetype": "text/x-python",
   "name": "python",
   "nbconvert_exporter": "python",
   "pygments_lexer": "ipython3",
   "version": "3.9.16"
  }
 },
 "nbformat": 4,
 "nbformat_minor": 5
}
