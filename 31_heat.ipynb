{
 "cells": [
  {
   "cell_type": "code",
   "execution_count": null,
   "id": "d7ca4acd-ea78-4c7e-9d4d-28cf999b5889",
   "metadata": {},
   "outputs": [],
   "source": [
    "# processes data on projected heat increase due to urban land expansion"
   ]
  },
  {
   "cell_type": "code",
   "execution_count": 1,
   "id": "6eeb60ad-9ff0-4256-b184-af8962385bce",
   "metadata": {},
   "outputs": [],
   "source": [
    "import os\n",
    "import sys\n",
    "import math\n",
    "import warnings\n",
    "import pandas as pd\n",
    "import geopandas as gpd\n",
    "from osgeo import gdal\n",
    "from pathlib import Path\n",
    "import glob\n",
    "import numpy as np\n",
    "import rasterio.mask\n",
    "import rasterio\n",
    "from rasterio.plot import show\n",
    "from rasterio.warp import calculate_default_transform, reproject, Resampling"
   ]
  },
  {
   "cell_type": "code",
   "execution_count": 2,
   "id": "861f128b-2a0f-4070-8ed3-7568a2db851f",
   "metadata": {},
   "outputs": [],
   "source": [
    "# Raw data folder. Change file path as needed\n",
    "input_folder = Path(r'F:\\World Bank\\City Scan\\data\\Heat increase due to urban land expansion')"
   ]
  },
  {
   "cell_type": "code",
   "execution_count": 3,
   "id": "344980cd-891c-4f0c-88aa-10dd9b41b09a",
   "metadata": {},
   "outputs": [],
   "source": [
    "def reproj_heat(input_raster):\n",
    "    filename = input_raster + '.tif'\n",
    "    outfile = input_raster + '_4326.tif'\n",
    "    with rasterio.open(input_folder / filename) as src:\n",
    "        dst_crs = 'EPSG:4326'\n",
    "        \n",
    "        transform, width, height = calculate_default_transform(\n",
    "            src.crs, dst_crs, src.width, src.height, *src.bounds)\n",
    "        kwargs = src.meta.copy()\n",
    "        kwargs.update({\n",
    "            'crs': dst_crs,\n",
    "            'transform': transform,\n",
    "            'width': width,\n",
    "            'height': height\n",
    "        })\n",
    "\n",
    "        with rasterio.open(input_folder / outfile, 'w', **kwargs) as dst:\n",
    "            for i in range(1, src.count + 1):\n",
    "                reproject(\n",
    "                    source=rasterio.band(src, i),\n",
    "                    destination=rasterio.band(dst, i),\n",
    "                    src_transform=src.transform,\n",
    "                    src_crs=src.crs,\n",
    "                    dst_transform=transform,\n",
    "                    dst_crs=dst_crs,\n",
    "                    resampling=Resampling.nearest)"
   ]
  },
  {
   "cell_type": "code",
   "execution_count": 4,
   "id": "7d679855-d9c4-4ca4-b7d9-46e27ae28b14",
   "metadata": {},
   "outputs": [],
   "source": [
    "shp_folder = Path('data/AOI')\n",
    "cities = pd.read_csv('centroids.csv').city\n",
    "output_folder = Path('data')"
   ]
  },
  {
   "cell_type": "code",
   "execution_count": 5,
   "id": "e0186ccd-a484-4880-8bc3-9d49be41ac3e",
   "metadata": {},
   "outputs": [],
   "source": [
    "def clip_heat(input_raster):\n",
    "    input_raster_name = input_raster + '_4326.tif'\n",
    "    with rasterio.open(input_folder / input_raster_name) as src:\n",
    "        out_image, out_transform = rasterio.mask.mask(\n",
    "            src, features, crop=True)\n",
    "        out_meta = src.meta.copy()\n",
    "        \n",
    "    out_meta.update({\"driver\": \"GTiff\",\n",
    "                     \"height\": out_image.shape[1],\n",
    "                     \"width\": out_image.shape[2],\n",
    "                     \"transform\": out_transform})\n",
    "    \n",
    "    out_file = city.replace(' ', '_').lower() + '_' + input_raster + '.tif'\n",
    "    with rasterio.open(city / output_folder / out_file, \"w\", **out_meta) as dest:\n",
    "        dest.write(out_image)"
   ]
  },
  {
   "cell_type": "code",
   "execution_count": 6,
   "id": "be6020ca-f183-481a-bbb8-8f327daece92",
   "metadata": {},
   "outputs": [],
   "source": [
    "raster_list = ['urban-ssp1_day_sum', 'urban-ssp1_nig_sum',\n",
    "               'urban-ssp2_day_sum', 'urban-ssp2_nig_sum',\n",
    "               'urban-ssp3_day_sum', 'urban-ssp3_nig_sum']"
   ]
  },
  {
   "cell_type": "code",
   "execution_count": 7,
   "id": "316fbb2f-aa15-452d-8af0-72d10e703d25",
   "metadata": {},
   "outputs": [],
   "source": [
    "for city in cities:\n",
    "    aoi_name = city.replace(' ', '_').lower() + '_AOI.shp'\n",
    "    shp = gpd.read_file(city / shp_folder / aoi_name)#.buffer(0.01)\n",
    "    features = shp.geometry\n",
    "    for raster in raster_list:\n",
    "        clip_heat(raster)"
   ]
  }
 ],
 "metadata": {
  "kernelspec": {
   "display_name": "cityscan",
   "language": "python",
   "name": "cityscan"
  },
  "language_info": {
   "codemirror_mode": {
    "name": "ipython",
    "version": 3
   },
   "file_extension": ".py",
   "mimetype": "text/x-python",
   "name": "python",
   "nbconvert_exporter": "python",
   "pygments_lexer": "ipython3",
   "version": "3.9.16"
  }
 },
 "nbformat": 4,
 "nbformat_minor": 5
}
