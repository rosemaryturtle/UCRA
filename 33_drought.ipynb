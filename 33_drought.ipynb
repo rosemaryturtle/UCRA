{
 "cells": [
  {
   "cell_type": "code",
   "execution_count": null,
   "id": "f6f33422-307e-40c2-a4b5-03ea14fb72f9",
   "metadata": {},
   "outputs": [],
   "source": [
    "# processes drought indicator(s): total water storage anomaly"
   ]
  },
  {
   "cell_type": "code",
   "execution_count": 1,
   "id": "458609e4-be41-4644-91aa-dbca50b15549",
   "metadata": {},
   "outputs": [],
   "source": [
    "import os\n",
    "import sys\n",
    "import math\n",
    "import warnings\n",
    "import geopandas as gpd\n",
    "from osgeo import gdal\n",
    "from pathlib import Path\n",
    "import glob\n",
    "import numpy as np\n",
    "import rasterio.mask\n",
    "import rasterio\n",
    "from rasterio.plot import show\n",
    "from rasterio.warp import calculate_default_transform, reproject, Resampling"
   ]
  },
  {
   "cell_type": "code",
   "execution_count": 2,
   "id": "b282f402-d911-401e-b58f-049dfea3c2a2",
   "metadata": {},
   "outputs": [],
   "source": [
    "country = os.getcwd().split('\\\\')[-1]"
   ]
  },
  {
   "cell_type": "code",
   "execution_count": 3,
   "id": "465e86c6-3818-4761-a56a-e4c4bce59342",
   "metadata": {},
   "outputs": [
    {
     "name": "stderr",
     "output_type": "stream",
     "text": [
      "C:\\Users\\Owner\\AppData\\Local\\Temp\\ipykernel_13256\\1376300571.py:1: UserWarning: Geometry is in a geographic CRS. Results from 'buffer' are likely incorrect. Use 'GeoSeries.to_crs()' to re-project geometries to a projected CRS before this operation.\n",
      "\n",
      "  shp = gpd.read_file('shapefile/' + country.replace(' ', '_').lower() + '.shp').buffer(50)\n"
     ]
    }
   ],
   "source": [
    "shp = gpd.read_file('shapefile/' + country.replace(' ', '_').lower() + '.shp').buffer(50)\n",
    "features = shp.geometry"
   ]
  },
  {
   "cell_type": "code",
   "execution_count": 4,
   "id": "7c3d1f34-11e5-4cb9-a281-e9265e08cb96",
   "metadata": {},
   "outputs": [],
   "source": [
    "# Raw data folder. Change file path as needed\n",
    "folder_list = [x[0] for x in os.walk(r'F:\\World Bank\\City Scan\\data\\Drought')]\n",
    "folder_list.remove(folder_list[0])"
   ]
  },
  {
   "cell_type": "code",
   "execution_count": 5,
   "id": "f12665ca-54ae-49d3-9647-5103e5cf697d",
   "metadata": {},
   "outputs": [],
   "source": [
    "raster_list = {#'rdria': 't',\n",
    "               #'spg01': 'm',\n",
    "               #'spg12': 'm',\n",
    "               'twsan': 'm'}"
   ]
  },
  {
   "cell_type": "code",
   "execution_count": 6,
   "id": "d4b7c5cb-ac62-45c0-bac8-68d65d252ebf",
   "metadata": {},
   "outputs": [],
   "source": [
    "month_list = ['01', '02', '03', '04', '05', '06',\n",
    "              '07', '08', '09', '10', '11', '12']"
   ]
  },
  {
   "cell_type": "code",
   "execution_count": 7,
   "id": "b7f01f55-6baa-41ec-9877-4142c1c805df",
   "metadata": {},
   "outputs": [],
   "source": [
    "def clip_drought(folder, raster_prefix, raster_suffix, year, date):    \n",
    "    try:\n",
    "        with rasterio.open(folder + '/' + raster_prefix + '_m_wld_' + year + date + '01_' + raster_suffix + '.tif') as src:\n",
    "            out_image, out_transform = rasterio.mask.mask(\n",
    "                src, features, crop=True)\n",
    "            out_meta = src.meta.copy()\n",
    "\n",
    "        out_meta.update({\"driver\": \"GTiff\",\n",
    "                         \"height\": out_image.shape[1],\n",
    "                         \"width\": out_image.shape[2],\n",
    "                         \"transform\": out_transform})\n",
    "\n",
    "        with rasterio.open('output/drought/' + raster_prefix + '_' + year + date + \".tif\", \"w\", **out_meta) as dest:\n",
    "            dest.write(out_image)\n",
    "    \n",
    "    except:\n",
    "        pass"
   ]
  },
  {
   "cell_type": "code",
   "execution_count": 8,
   "id": "4d7eca25-bffe-4ed1-8bd1-8cb129d9a90f",
   "metadata": {},
   "outputs": [],
   "source": [
    "for raster in raster_list.keys():\n",
    "    for year in range(2011, 2021):\n",
    "        for month in month_list:\n",
    "            clip_drought(folder_list[3], raster, raster_list.get(raster), str(year), str(month))"
   ]
  }
 ],
 "metadata": {
  "kernelspec": {
   "display_name": "cityscan",
   "language": "python",
   "name": "cityscan"
  },
  "language_info": {
   "codemirror_mode": {
    "name": "ipython",
    "version": 3
   },
   "file_extension": ".py",
   "mimetype": "text/x-python",
   "name": "python",
   "nbconvert_exporter": "python",
   "pygments_lexer": "ipython3",
   "version": "3.9.16"
  }
 },
 "nbformat": 4,
 "nbformat_minor": 5
}
