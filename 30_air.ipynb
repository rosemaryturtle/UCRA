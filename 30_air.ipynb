{
 "cells": [
  {
   "cell_type": "code",
   "execution_count": null,
   "id": "87459711-2cb9-41b8-861d-3fd8477dddea",
   "metadata": {},
   "outputs": [],
   "source": [
    "# processes PM2.5 data"
   ]
  },
  {
   "cell_type": "code",
   "execution_count": 1,
   "id": "4d7af637-4a9e-4155-a627-2bc9262c317d",
   "metadata": {},
   "outputs": [],
   "source": [
    "import os\n",
    "import sys\n",
    "import math\n",
    "import warnings\n",
    "import yaml\n",
    "import pandas as pd\n",
    "import geopandas as gpd\n",
    "from osgeo import gdal\n",
    "from pathlib import Path\n",
    "import glob\n",
    "import numpy as np\n",
    "import rasterio.mask\n",
    "import rasterio\n",
    "import fiona\n",
    "from fiona.crs import from_epsg\n",
    "from pathlib import Path"
   ]
  },
  {
   "cell_type": "code",
   "execution_count": 3,
   "id": "3c69fdbe-378f-49b5-bd0b-ff7c5cefd2ac",
   "metadata": {},
   "outputs": [],
   "source": [
    "aoi_folder = Path('data/AOI')\n",
    "city_list = pd.read_csv('centroids.csv').city\n",
    "output_folder = Path('data')"
   ]
  },
  {
   "cell_type": "code",
   "execution_count": 6,
   "id": "ede72db8-8191-49e9-b912-cd80c277d68d",
   "metadata": {},
   "outputs": [],
   "source": [
    "def clipdata_air(city, year):\n",
    "    city_no_space = city.replace(\" \", \"_\")\n",
    "    city_lower = city_no_space.lower()\n",
    "    file = city / aoi_folder / (city_lower + '_AOI.shp')\n",
    "    \n",
    "    with fiona.open(file, \"r\") as shapefile:\n",
    "        features = [feature[\"geometry\"] for feature in shapefile]\n",
    "        \n",
    "        # Raw data folder. Change file path as needed\n",
    "        input_raster = \"F:/World Bank/City Scan/data/Global Annual PM2.5 Grids 1998-2019/sdei-global-annual-gwr-pm2-5-modis-misr-seawifs-aod-v4-gl-03-\" + str(year) + \".tif\"\n",
    "        with rasterio.open(input_raster) as src:\n",
    "            # shapely presumes all operations on two or more features exist in the same Cartesian plane.\n",
    "            out_image, out_transform = rasterio.mask.mask(\n",
    "                src, features, crop=True)\n",
    "            out_meta = src.meta.copy()\n",
    "\n",
    "        out_meta.update({\"driver\": \"GTiff\",\n",
    "                         \"height\": out_image.shape[1],\n",
    "                         \"width\": out_image.shape[2],\n",
    "                         \"transform\": out_transform})\n",
    "\n",
    "        output_file = city_lower + '_air_quality_' + str(year) + '.tif'\n",
    "        with rasterio.open(Path(city) / output_folder / output_file, \"w\", **out_meta) as dest:\n",
    "            dest.write(out_image)"
   ]
  },
  {
   "cell_type": "code",
   "execution_count": 7,
   "id": "7bb164b0-c6a2-4654-b6b0-17a71b3f8743",
   "metadata": {},
   "outputs": [],
   "source": [
    "for city in city_list:\n",
    "    for year in range(1998, 2020):\n",
    "        clipdata_air(city, year)"
   ]
  }
 ],
 "metadata": {
  "kernelspec": {
   "display_name": "cityscan",
   "language": "python",
   "name": "cityscan"
  },
  "language_info": {
   "codemirror_mode": {
    "name": "ipython",
    "version": 3
   },
   "file_extension": ".py",
   "mimetype": "text/x-python",
   "name": "python",
   "nbconvert_exporter": "python",
   "pygments_lexer": "ipython3",
   "version": "3.9.16"
  }
 },
 "nbformat": 4,
 "nbformat_minor": 5
}
