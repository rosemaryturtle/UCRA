{
 "cells": [
  {
   "cell_type": "code",
   "execution_count": null,
   "id": "e8f4e1f9-c870-43cb-bc12-fa9751e95296",
   "metadata": {},
   "outputs": [],
   "source": [
    "# processes landslide data"
   ]
  },
  {
   "cell_type": "code",
   "execution_count": 1,
   "id": "4f37951c-ef71-436d-9d90-c3db81c032e0",
   "metadata": {},
   "outputs": [],
   "source": [
    "import os\n",
    "import sys\n",
    "import math\n",
    "import warnings\n",
    "import yaml\n",
    "import pandas as pd\n",
    "import geopandas as gpd\n",
    "from osgeo import gdal\n",
    "from pathlib import Path\n",
    "import glob\n",
    "import numpy as np\n",
    "import rasterio.mask\n",
    "import rasterio\n",
    "from rasterio.plot import show\n",
    "import fiona"
   ]
  },
  {
   "cell_type": "code",
   "execution_count": 2,
   "id": "9724956e-7c21-4e2a-a5c4-d2ac9b12eb2a",
   "metadata": {},
   "outputs": [],
   "source": [
    "aoi_folder = Path('data/AOI')\n",
    "city_list = pd.read_csv('centroids.csv').city\n",
    "output_folder = Path('data')"
   ]
  },
  {
   "cell_type": "code",
   "execution_count": 3,
   "id": "8bb3a246-e086-45a0-96ce-bc0f62dc29b4",
   "metadata": {},
   "outputs": [],
   "source": [
    "def clipdata_ls(city):\n",
    "    city_no_space = city.replace(\" \", \"_\")\n",
    "    city_lower = city_no_space.lower()\n",
    "    file = city / aoi_folder / (city_lower + '_AOI.shp')\n",
    "    \n",
    "    with fiona.open(file, \"r\") as shapefile:\n",
    "        features = [feature[\"geometry\"] for feature in shapefile]\n",
    "        \n",
    "        # Raw data folder. Change file path as needed\n",
    "        input_raster = r'F:\\World Bank\\City Scan\\data\\Landslide\\Global landslide hazard map - Rainfall trigger (1980-2018, median) - COG.tif'\n",
    "        with rasterio.open(input_raster) as src:\n",
    "            # shapely presumes all operations on two or more features exist in the same Cartesian plane.\n",
    "            out_image, out_transform = rasterio.mask.mask(\n",
    "                src, features, crop=True)\n",
    "            out_meta = src.meta.copy()\n",
    "\n",
    "        out_meta.update({\"driver\": \"GTiff\",\n",
    "                         \"height\": out_image.shape[1],\n",
    "                         \"width\": out_image.shape[2],\n",
    "                         \"transform\": out_transform,\n",
    "                         'nodata': 0})\n",
    "        \n",
    "        if np.nansum(out_image) != 0:\n",
    "            output_file = city_lower + '_landslide.tif'\n",
    "            with rasterio.open(Path(city) / output_folder / output_file, \"w\", **out_meta) as dest:\n",
    "                dest.write(out_image)"
   ]
  },
  {
   "cell_type": "code",
   "execution_count": 4,
   "id": "6dbef745-0a06-4b7e-97fd-9e04fa2c9f01",
   "metadata": {},
   "outputs": [],
   "source": [
    "for city in city_list:\n",
    "    clipdata_ls(city)\n",
    "# note that cities where landslide hazard is absent will not have a landslide raster file"
   ]
  }
 ],
 "metadata": {
  "kernelspec": {
   "display_name": "cityscan",
   "language": "python",
   "name": "cityscan"
  },
  "language_info": {
   "codemirror_mode": {
    "name": "ipython",
    "version": 3
   },
   "file_extension": ".py",
   "mimetype": "text/x-python",
   "name": "python",
   "nbconvert_exporter": "python",
   "pygments_lexer": "ipython3",
   "version": "3.9.16"
  }
 },
 "nbformat": 4,
 "nbformat_minor": 5
}
