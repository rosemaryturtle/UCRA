{
 "cells": [
  {
   "cell_type": "code",
   "execution_count": 2,
   "id": "b48fd5e5-75cd-442f-9da8-8f5e1e14e50c",
   "metadata": {},
   "outputs": [],
   "source": [
    "import os\n",
    "import sys\n",
    "import math\n",
    "import warnings\n",
    "import yaml\n",
    "import pandas as pd\n",
    "import geopandas as gpd\n",
    "from osgeo import gdal\n",
    "import glob\n",
    "import numpy as np\n",
    "import rasterio\n",
    "import rasterio.mask\n",
    "from os.path import exists\n",
    "from shutil import copyfile\n",
    "from pathlib import Path"
   ]
  },
  {
   "cell_type": "markdown",
   "id": "f256f4df-971a-4e18-9cdc-6504159f8e6f",
   "metadata": {},
   "source": [
    "#### Step 1: set up basic folders"
   ]
  },
  {
   "cell_type": "code",
   "execution_count": 3,
   "id": "d37a2316-2b0a-4472-bfa6-aea2a97a431e",
   "metadata": {},
   "outputs": [],
   "source": [
    "def create_folder(name):\n",
    "    try:\n",
    "        os.mkdir(name)\n",
    "    except FileExistsError:\n",
    "        pass"
   ]
  },
  {
   "cell_type": "code",
   "execution_count": 4,
   "id": "a5dcd1a0-3d6d-43b4-bc6a-7a7cf0eaf2e0",
   "metadata": {},
   "outputs": [],
   "source": [
    "create_folder('data') # folder for raw data\n",
    "create_folder('shapefile')\n",
    "create_folder('output') # folder for processed data\n",
    "create_folder('output/drought')\n",
    "create_folder('plots') # folder for plots\n",
    "create_folder('stats') # folder for derived statistics\n",
    "create_folder('stats/drought')\n",
    "create_folder('stats/CCKP')\n",
    "create_folder('stats/spei')\n",
    "create_folder('maps') # folder for maps\n",
    "\n",
    "country = os.getcwd().split('\\\\')[-1]\n",
    "\n",
    "# Create corresponding folders on an external hard drive to store large data. Change file path as needed.\n",
    "create_folder('F:/World Bank/City Scan/' + country)\n",
    "create_folder('F:/World Bank/City Scan/' + country + '/data')\n",
    "create_folder('F:/World Bank/City Scan/' + country + '/output')"
   ]
  },
  {
   "cell_type": "markdown",
   "id": "aa37de76-a2b1-404e-8c8a-5ec3b4a284db",
   "metadata": {},
   "source": [
    "#### Step 2: create AOI shapefiles\n",
    "Have the AOI shapefiles in the shapefile folder before proceeding\n",
    "The AOI shapefiles should be named such as new_york.shp (lower case, spaces replaced with underscores)"
   ]
  },
  {
   "cell_type": "markdown",
   "id": "9ff07ebd-fb7f-428b-8562-4941d7849d4c",
   "metadata": {},
   "source": [
    "#### Step 3: project AOI shapefiles into WGS 84 and save them to city folders"
   ]
  },
  {
   "cell_type": "code",
   "execution_count": 4,
   "id": "2e07eee7-179e-4398-8a7a-dc03b7e1ce71",
   "metadata": {},
   "outputs": [],
   "source": [
    "cities = ['Kinshasa', 'Kananga', 'Mbuji-Mayi', 'Lubumbashi', 'Kisangani', 'Bukavu', 'Goma', 'Tshikapa', 'Mwene-Ditu', 'Gemena', 'Gbadolite', 'Matadi', 'Kikwit', 'Bunia']"
   ]
  },
  {
   "cell_type": "code",
   "execution_count": 5,
   "id": "a0c5572d-33aa-46da-9418-5754a8f23c2e",
   "metadata": {},
   "outputs": [],
   "source": [
    "for city in cities:\n",
    "    create_folder(Path(city))\n",
    "    create_folder(city / Path('maps'))\n",
    "    create_folder(city / Path('data'))\n",
    "    create_folder(city / Path('data') / 'AOI')\n",
    "    create_folder(city / Path('stats'))"
   ]
  },
  {
   "cell_type": "code",
   "execution_count": 6,
   "id": "5d0e5894-c8f8-4266-8db8-25686f90cc36",
   "metadata": {},
   "outputs": [
    {
     "name": "stderr",
     "output_type": "stream",
     "text": [
      "C:\\Users\\Owner\\anaconda3\\envs\\cityscan\\lib\\site-packages\\geopandas\\io\\file.py:299: FutureWarning: pandas.Int64Index is deprecated and will be removed from pandas in a future version. Use pandas.Index with the appropriate dtype instead.\n",
      "  pd.Int64Index,\n",
      "C:\\Users\\Owner\\anaconda3\\envs\\cityscan\\lib\\site-packages\\geopandas\\io\\file.py:299: FutureWarning: pandas.Int64Index is deprecated and will be removed from pandas in a future version. Use pandas.Index with the appropriate dtype instead.\n",
      "  pd.Int64Index,\n",
      "C:\\Users\\Owner\\anaconda3\\envs\\cityscan\\lib\\site-packages\\geopandas\\io\\file.py:299: FutureWarning: pandas.Int64Index is deprecated and will be removed from pandas in a future version. Use pandas.Index with the appropriate dtype instead.\n",
      "  pd.Int64Index,\n",
      "C:\\Users\\Owner\\anaconda3\\envs\\cityscan\\lib\\site-packages\\geopandas\\io\\file.py:299: FutureWarning: pandas.Int64Index is deprecated and will be removed from pandas in a future version. Use pandas.Index with the appropriate dtype instead.\n",
      "  pd.Int64Index,\n",
      "C:\\Users\\Owner\\anaconda3\\envs\\cityscan\\lib\\site-packages\\geopandas\\io\\file.py:299: FutureWarning: pandas.Int64Index is deprecated and will be removed from pandas in a future version. Use pandas.Index with the appropriate dtype instead.\n",
      "  pd.Int64Index,\n",
      "C:\\Users\\Owner\\anaconda3\\envs\\cityscan\\lib\\site-packages\\geopandas\\io\\file.py:299: FutureWarning: pandas.Int64Index is deprecated and will be removed from pandas in a future version. Use pandas.Index with the appropriate dtype instead.\n",
      "  pd.Int64Index,\n",
      "C:\\Users\\Owner\\anaconda3\\envs\\cityscan\\lib\\site-packages\\geopandas\\io\\file.py:299: FutureWarning: pandas.Int64Index is deprecated and will be removed from pandas in a future version. Use pandas.Index with the appropriate dtype instead.\n",
      "  pd.Int64Index,\n",
      "C:\\Users\\Owner\\anaconda3\\envs\\cityscan\\lib\\site-packages\\geopandas\\io\\file.py:299: FutureWarning: pandas.Int64Index is deprecated and will be removed from pandas in a future version. Use pandas.Index with the appropriate dtype instead.\n",
      "  pd.Int64Index,\n",
      "C:\\Users\\Owner\\anaconda3\\envs\\cityscan\\lib\\site-packages\\geopandas\\io\\file.py:299: FutureWarning: pandas.Int64Index is deprecated and will be removed from pandas in a future version. Use pandas.Index with the appropriate dtype instead.\n",
      "  pd.Int64Index,\n",
      "C:\\Users\\Owner\\anaconda3\\envs\\cityscan\\lib\\site-packages\\geopandas\\io\\file.py:299: FutureWarning: pandas.Int64Index is deprecated and will be removed from pandas in a future version. Use pandas.Index with the appropriate dtype instead.\n",
      "  pd.Int64Index,\n",
      "C:\\Users\\Owner\\anaconda3\\envs\\cityscan\\lib\\site-packages\\geopandas\\io\\file.py:299: FutureWarning: pandas.Int64Index is deprecated and will be removed from pandas in a future version. Use pandas.Index with the appropriate dtype instead.\n",
      "  pd.Int64Index,\n",
      "C:\\Users\\Owner\\anaconda3\\envs\\cityscan\\lib\\site-packages\\geopandas\\io\\file.py:299: FutureWarning: pandas.Int64Index is deprecated and will be removed from pandas in a future version. Use pandas.Index with the appropriate dtype instead.\n",
      "  pd.Int64Index,\n",
      "C:\\Users\\Owner\\anaconda3\\envs\\cityscan\\lib\\site-packages\\geopandas\\io\\file.py:299: FutureWarning: pandas.Int64Index is deprecated and will be removed from pandas in a future version. Use pandas.Index with the appropriate dtype instead.\n",
      "  pd.Int64Index,\n",
      "C:\\Users\\Owner\\anaconda3\\envs\\cityscan\\lib\\site-packages\\geopandas\\io\\file.py:299: FutureWarning: pandas.Int64Index is deprecated and will be removed from pandas in a future version. Use pandas.Index with the appropriate dtype instead.\n",
      "  pd.Int64Index,\n"
     ]
    }
   ],
   "source": [
    "for city in cities:\n",
    "    shp_4326 = gpd.read_file(Path('shapefile') / (city.replace(\" \", \"_\").lower() + '.shp')).to_crs(epsg = 4326)\n",
    "    shp_4326.to_file(Path(city) / 'data/AOI' / (city.replace(\" \", \"_\").lower() + '_AOI.shp'))"
   ]
  },
  {
   "cell_type": "markdown",
   "id": "686fa6d8-8984-41e1-a3a4-1c9587234568",
   "metadata": {},
   "source": [
    "#### Step 4: generate city coordinates and UTM"
   ]
  },
  {
   "cell_type": "code",
   "execution_count": 7,
   "id": "bea2f545-ff2f-474c-80e4-69d375fe4b9a",
   "metadata": {},
   "outputs": [
    {
     "name": "stderr",
     "output_type": "stream",
     "text": [
      "C:\\Users\\Owner\\AppData\\Local\\Temp\\ipykernel_19860\\2829273085.py:4: UserWarning: Geometry is in a geographic CRS. Results from 'centroid' are likely incorrect. Use 'GeoSeries.to_crs()' to re-project geometries to a projected CRS before this operation.\n",
      "\n",
      "  centroid = gpd.read_file(Path(city) / 'data/AOI' / (city.replace(\" \", \"_\").lower() + '_AOI.shp')).centroid\n",
      "C:\\Users\\Owner\\AppData\\Local\\Temp\\ipykernel_19860\\2829273085.py:4: UserWarning: Geometry is in a geographic CRS. Results from 'centroid' are likely incorrect. Use 'GeoSeries.to_crs()' to re-project geometries to a projected CRS before this operation.\n",
      "\n",
      "  centroid = gpd.read_file(Path(city) / 'data/AOI' / (city.replace(\" \", \"_\").lower() + '_AOI.shp')).centroid\n",
      "C:\\Users\\Owner\\AppData\\Local\\Temp\\ipykernel_19860\\2829273085.py:4: UserWarning: Geometry is in a geographic CRS. Results from 'centroid' are likely incorrect. Use 'GeoSeries.to_crs()' to re-project geometries to a projected CRS before this operation.\n",
      "\n",
      "  centroid = gpd.read_file(Path(city) / 'data/AOI' / (city.replace(\" \", \"_\").lower() + '_AOI.shp')).centroid\n",
      "C:\\Users\\Owner\\AppData\\Local\\Temp\\ipykernel_19860\\2829273085.py:4: UserWarning: Geometry is in a geographic CRS. Results from 'centroid' are likely incorrect. Use 'GeoSeries.to_crs()' to re-project geometries to a projected CRS before this operation.\n",
      "\n",
      "  centroid = gpd.read_file(Path(city) / 'data/AOI' / (city.replace(\" \", \"_\").lower() + '_AOI.shp')).centroid\n",
      "C:\\Users\\Owner\\AppData\\Local\\Temp\\ipykernel_19860\\2829273085.py:4: UserWarning: Geometry is in a geographic CRS. Results from 'centroid' are likely incorrect. Use 'GeoSeries.to_crs()' to re-project geometries to a projected CRS before this operation.\n",
      "\n",
      "  centroid = gpd.read_file(Path(city) / 'data/AOI' / (city.replace(\" \", \"_\").lower() + '_AOI.shp')).centroid\n",
      "C:\\Users\\Owner\\AppData\\Local\\Temp\\ipykernel_19860\\2829273085.py:4: UserWarning: Geometry is in a geographic CRS. Results from 'centroid' are likely incorrect. Use 'GeoSeries.to_crs()' to re-project geometries to a projected CRS before this operation.\n",
      "\n",
      "  centroid = gpd.read_file(Path(city) / 'data/AOI' / (city.replace(\" \", \"_\").lower() + '_AOI.shp')).centroid\n",
      "C:\\Users\\Owner\\AppData\\Local\\Temp\\ipykernel_19860\\2829273085.py:4: UserWarning: Geometry is in a geographic CRS. Results from 'centroid' are likely incorrect. Use 'GeoSeries.to_crs()' to re-project geometries to a projected CRS before this operation.\n",
      "\n",
      "  centroid = gpd.read_file(Path(city) / 'data/AOI' / (city.replace(\" \", \"_\").lower() + '_AOI.shp')).centroid\n",
      "C:\\Users\\Owner\\AppData\\Local\\Temp\\ipykernel_19860\\2829273085.py:4: UserWarning: Geometry is in a geographic CRS. Results from 'centroid' are likely incorrect. Use 'GeoSeries.to_crs()' to re-project geometries to a projected CRS before this operation.\n",
      "\n",
      "  centroid = gpd.read_file(Path(city) / 'data/AOI' / (city.replace(\" \", \"_\").lower() + '_AOI.shp')).centroid\n",
      "C:\\Users\\Owner\\AppData\\Local\\Temp\\ipykernel_19860\\2829273085.py:4: UserWarning: Geometry is in a geographic CRS. Results from 'centroid' are likely incorrect. Use 'GeoSeries.to_crs()' to re-project geometries to a projected CRS before this operation.\n",
      "\n",
      "  centroid = gpd.read_file(Path(city) / 'data/AOI' / (city.replace(\" \", \"_\").lower() + '_AOI.shp')).centroid\n",
      "C:\\Users\\Owner\\AppData\\Local\\Temp\\ipykernel_19860\\2829273085.py:4: UserWarning: Geometry is in a geographic CRS. Results from 'centroid' are likely incorrect. Use 'GeoSeries.to_crs()' to re-project geometries to a projected CRS before this operation.\n",
      "\n",
      "  centroid = gpd.read_file(Path(city) / 'data/AOI' / (city.replace(\" \", \"_\").lower() + '_AOI.shp')).centroid\n",
      "C:\\Users\\Owner\\AppData\\Local\\Temp\\ipykernel_19860\\2829273085.py:4: UserWarning: Geometry is in a geographic CRS. Results from 'centroid' are likely incorrect. Use 'GeoSeries.to_crs()' to re-project geometries to a projected CRS before this operation.\n",
      "\n",
      "  centroid = gpd.read_file(Path(city) / 'data/AOI' / (city.replace(\" \", \"_\").lower() + '_AOI.shp')).centroid\n",
      "C:\\Users\\Owner\\AppData\\Local\\Temp\\ipykernel_19860\\2829273085.py:4: UserWarning: Geometry is in a geographic CRS. Results from 'centroid' are likely incorrect. Use 'GeoSeries.to_crs()' to re-project geometries to a projected CRS before this operation.\n",
      "\n",
      "  centroid = gpd.read_file(Path(city) / 'data/AOI' / (city.replace(\" \", \"_\").lower() + '_AOI.shp')).centroid\n",
      "C:\\Users\\Owner\\AppData\\Local\\Temp\\ipykernel_19860\\2829273085.py:4: UserWarning: Geometry is in a geographic CRS. Results from 'centroid' are likely incorrect. Use 'GeoSeries.to_crs()' to re-project geometries to a projected CRS before this operation.\n",
      "\n",
      "  centroid = gpd.read_file(Path(city) / 'data/AOI' / (city.replace(\" \", \"_\").lower() + '_AOI.shp')).centroid\n",
      "C:\\Users\\Owner\\AppData\\Local\\Temp\\ipykernel_19860\\2829273085.py:4: UserWarning: Geometry is in a geographic CRS. Results from 'centroid' are likely incorrect. Use 'GeoSeries.to_crs()' to re-project geometries to a projected CRS before this operation.\n",
      "\n",
      "  centroid = gpd.read_file(Path(city) / 'data/AOI' / (city.replace(\" \", \"_\").lower() + '_AOI.shp')).centroid\n"
     ]
    }
   ],
   "source": [
    "with open('centroids.csv', 'w') as f:\n",
    "    f.write('city,x,y,utm\\n')\n",
    "    for city in cities:\n",
    "        centroid = gpd.read_file(Path(city) / 'data/AOI' / (city.replace(\" \", \"_\").lower() + '_AOI.shp')).centroid\n",
    "        f.write('%s,%s,%s,%s\\n'%(city, centroid.x[0], centroid.y[0], 32600+math.ceil((centroid.x[0]+180)/6)))"
   ]
  },
  {
   "cell_type": "markdown",
   "id": "8ede3d00-70cf-4677-a7af-773237a69474",
   "metadata": {},
   "source": [
    "#### Step 5: extract country shapefile"
   ]
  },
  {
   "cell_type": "code",
   "execution_count": 9,
   "id": "a2a4939e-ea69-4747-899f-106ee0c70212",
   "metadata": {},
   "outputs": [],
   "source": [
    "# WB countries shapefile. Change file path as needed\n",
    "all_countries = gpd.read_file(r\"C:\\Users\\Owner\\Documents\\Career\\World Bank\\City Scan\\data\\wb_countries_admin0_10m\\WB_countries_Admin0_10m.shp\")"
   ]
  },
  {
   "cell_type": "code",
   "execution_count": 14,
   "id": "bb7cc94c-9e57-450e-87d8-e4cb50dabeb7",
   "metadata": {},
   "outputs": [],
   "source": [
    "# change country name as needed\n",
    "country_shp = all_countries[all_countries.NAME_EN == 'Democratic Republic of the Congo']"
   ]
  },
  {
   "cell_type": "code",
   "execution_count": 13,
   "id": "7a480718-1334-4a06-b16f-0313f5856ee9",
   "metadata": {},
   "outputs": [
    {
     "data": {
      "text/html": [
       "<div>\n",
       "<style scoped>\n",
       "    .dataframe tbody tr th:only-of-type {\n",
       "        vertical-align: middle;\n",
       "    }\n",
       "\n",
       "    .dataframe tbody tr th {\n",
       "        vertical-align: top;\n",
       "    }\n",
       "\n",
       "    .dataframe thead th {\n",
       "        text-align: right;\n",
       "    }\n",
       "</style>\n",
       "<table border=\"1\" class=\"dataframe\">\n",
       "  <thead>\n",
       "    <tr style=\"text-align: right;\">\n",
       "      <th></th>\n",
       "      <th>OBJECTID</th>\n",
       "      <th>featurecla</th>\n",
       "      <th>LEVEL</th>\n",
       "      <th>TYPE</th>\n",
       "      <th>FORMAL_EN</th>\n",
       "      <th>FORMAL_FR</th>\n",
       "      <th>POP_EST</th>\n",
       "      <th>POP_RANK</th>\n",
       "      <th>GDP_MD_EST</th>\n",
       "      <th>POP_YEAR</th>\n",
       "      <th>...</th>\n",
       "      <th>NAME_SV</th>\n",
       "      <th>NAME_TR</th>\n",
       "      <th>NAME_VI</th>\n",
       "      <th>NAME_ZH</th>\n",
       "      <th>WB_NAME</th>\n",
       "      <th>WB_RULES</th>\n",
       "      <th>WB_REGION</th>\n",
       "      <th>Shape_Leng</th>\n",
       "      <th>Shape_Area</th>\n",
       "      <th>geometry</th>\n",
       "    </tr>\n",
       "  </thead>\n",
       "  <tbody>\n",
       "    <tr>\n",
       "      <th>29</th>\n",
       "      <td>30</td>\n",
       "      <td>Admin-0 country</td>\n",
       "      <td>2</td>\n",
       "      <td>Sovereign country</td>\n",
       "      <td>Democratic Republic of the Congo</td>\n",
       "      <td>None</td>\n",
       "      <td>83301151</td>\n",
       "      <td>16</td>\n",
       "      <td>66010.0</td>\n",
       "      <td>2017</td>\n",
       "      <td>...</td>\n",
       "      <td>Kongo-Kinshasa</td>\n",
       "      <td>Demokratik Kongo Cumhuriyeti</td>\n",
       "      <td>Cộng hòa Dân chủ Congo</td>\n",
       "      <td>刚果民主共和国</td>\n",
       "      <td>Congo, Democratic Republic of</td>\n",
       "      <td>Always have \"Democratic Republic of\" before \"C...</td>\n",
       "      <td>AFR</td>\n",
       "      <td>87.70156</td>\n",
       "      <td>189.678904</td>\n",
       "      <td>MULTIPOLYGON (((18.62639 3.47687, 18.59300 3.7...</td>\n",
       "    </tr>\n",
       "  </tbody>\n",
       "</table>\n",
       "<p>1 rows × 53 columns</p>\n",
       "</div>"
      ],
      "text/plain": [
       "    OBJECTID       featurecla  LEVEL               TYPE  \\\n",
       "29        30  Admin-0 country      2  Sovereign country   \n",
       "\n",
       "                           FORMAL_EN FORMAL_FR   POP_EST  POP_RANK  \\\n",
       "29  Democratic Republic of the Congo      None  83301151        16   \n",
       "\n",
       "    GDP_MD_EST  POP_YEAR  ...         NAME_SV                       NAME_TR  \\\n",
       "29     66010.0      2017  ...  Kongo-Kinshasa  Demokratik Kongo Cumhuriyeti   \n",
       "\n",
       "                   NAME_VI  NAME_ZH                        WB_NAME  \\\n",
       "29  Cộng hòa Dân chủ Congo  刚果民主共和国  Congo, Democratic Republic of   \n",
       "\n",
       "                                             WB_RULES WB_REGION Shape_Leng  \\\n",
       "29  Always have \"Democratic Republic of\" before \"C...       AFR   87.70156   \n",
       "\n",
       "    Shape_Area                                           geometry  \n",
       "29  189.678904  MULTIPOLYGON (((18.62639 3.47687, 18.59300 3.7...  \n",
       "\n",
       "[1 rows x 53 columns]"
      ]
     },
     "execution_count": 13,
     "metadata": {},
     "output_type": "execute_result"
    }
   ],
   "source": [
    "country_shp"
   ]
  },
  {
   "cell_type": "code",
   "execution_count": 15,
   "id": "39379c94-e8ba-4d80-b12b-69139c316694",
   "metadata": {},
   "outputs": [
    {
     "name": "stderr",
     "output_type": "stream",
     "text": [
      "C:\\Users\\Owner\\anaconda3\\envs\\cityscan\\lib\\site-packages\\geopandas\\io\\file.py:299: FutureWarning: pandas.Int64Index is deprecated and will be removed from pandas in a future version. Use pandas.Index with the appropriate dtype instead.\n",
      "  pd.Int64Index,\n"
     ]
    }
   ],
   "source": [
    "country_shp.to_file(Path('shapefile') / (country.lower().replace(' ', '_') + '.shp'))"
   ]
  },
  {
   "cell_type": "markdown",
   "id": "3816527e-e1b1-4516-a2f9-22e194127f8a",
   "metadata": {},
   "source": [
    "#### Step 6: make centroids shapefile"
   ]
  },
  {
   "cell_type": "code",
   "execution_count": 16,
   "id": "77091832-b069-4735-b112-daeca078b3ee",
   "metadata": {},
   "outputs": [],
   "source": [
    "centroids = pd.read_csv('centroids.csv')"
   ]
  },
  {
   "cell_type": "code",
   "execution_count": 17,
   "id": "94702d45-f582-4511-a3ec-db165ab18f8e",
   "metadata": {},
   "outputs": [
    {
     "name": "stderr",
     "output_type": "stream",
     "text": [
      "C:\\Users\\Owner\\anaconda3\\envs\\cityscan\\lib\\site-packages\\geopandas\\array.py:275: ShapelyDeprecationWarning: The array interface is deprecated and will no longer work in Shapely 2.0. Convert the '.coords' to a numpy array instead.\n",
      "  return GeometryArray(vectorized.points_from_xy(x, y, z), crs=crs)\n"
     ]
    }
   ],
   "source": [
    "gdf = gpd.GeoDataFrame(centroids, \n",
    "                       geometry = gpd.points_from_xy(centroids.x, centroids.y))"
   ]
  },
  {
   "cell_type": "code",
   "execution_count": 18,
   "id": "ad4bbf7c-2405-4e31-93db-a742d2b8bfff",
   "metadata": {},
   "outputs": [
    {
     "name": "stderr",
     "output_type": "stream",
     "text": [
      "C:\\Users\\Owner\\anaconda3\\envs\\cityscan\\lib\\site-packages\\geopandas\\io\\file.py:299: FutureWarning: pandas.Int64Index is deprecated and will be removed from pandas in a future version. Use pandas.Index with the appropriate dtype instead.\n",
      "  pd.Int64Index,\n"
     ]
    }
   ],
   "source": [
    "gdf.to_file('shapefile/centroids.shp', crs = 'EPSG:4326')"
   ]
  },
  {
   "cell_type": "markdown",
   "id": "a2cd1b85-7771-4fd5-b4e5-45efb1de67ae",
   "metadata": {},
   "source": [
    "#### Step 7: copy GEE outputs to city output folders"
   ]
  },
  {
   "cell_type": "code",
   "execution_count": 19,
   "id": "df5edc8b-4f68-459f-b439-0719d8030871",
   "metadata": {},
   "outputs": [],
   "source": [
    "def crop_gee_output(city, raster_name):\n",
    "    with rasterio.open(Path('output') / 'GEE' / (raster_name + '.tif')) as src:\n",
    "        array = src.read(1)\n",
    "        out_meta = src.meta.copy()\n",
    "        out_meta.update({'nodata': 'nan'})\n",
    "    with rasterio.open(city / Path('data') / (raster_name + '.tif'), 'w', **out_meta) as dest:\n",
    "        dest.write(array, 1)"
   ]
  },
  {
   "cell_type": "code",
   "execution_count": 20,
   "id": "f99e95f3-f70d-4519-abe7-f8184dad80e5",
   "metadata": {},
   "outputs": [],
   "source": [
    "for city in cities:\n",
    "    crop_gee_output(city, city.replace(\" \", \"_\").lower() + '_Summer')"
   ]
  },
  {
   "cell_type": "markdown",
   "id": "76abafee-9ba0-4cbe-ad15-3eb6ddac0b59",
   "metadata": {},
   "source": [
    "#### Step 8: copy files needed for Match Map Style toolbox"
   ]
  },
  {
   "cell_type": "code",
   "execution_count": 21,
   "id": "4531965e-ee02-4819-b51a-fdb46105f4c1",
   "metadata": {},
   "outputs": [],
   "source": [
    "fathom_folder = Path('data') / 'Fathom'\n",
    "floods = {'fluvial_undefended': 'FU',\n",
    "          'pluvial': 'P'}\n",
    "rps = [5, 10, 20, 50, 75, 100, 200, 250, 500, 1000]"
   ]
  },
  {
   "cell_type": "code",
   "execution_count": 23,
   "id": "645301f9-347e-450e-8b6c-ebb224bce701",
   "metadata": {},
   "outputs": [],
   "source": [
    "for city in cities:\n",
    "    for flood in floods:\n",
    "        for rp in rps:\n",
    "            copyfile(fathom_folder / flood / (floods[flood] + '_1in' + str(rp) + '.tif'), \n",
    "                     city / Path('data') / (floods[flood] + '_1in' + str(rp) + '.tif'))"
   ]
  },
  {
   "cell_type": "markdown",
   "id": "f543a1df-401d-4163-83cf-e087e39313c6",
   "metadata": {},
   "source": [
    "#### Step 9: delete files needed for Match Map Style toolbox after maps are produced"
   ]
  },
  {
   "cell_type": "code",
   "execution_count": 5,
   "id": "4d68d6ee-78c4-49ad-a94e-e8e835b1fb14",
   "metadata": {},
   "outputs": [],
   "source": [
    "for city in cities:\n",
    "    for flood in floods:\n",
    "        for rp in rps:\n",
    "            os.remove(city / Path('data') / (floods[flood] + '_1in' + str(rp) + '.tif'))"
   ]
  }
 ],
 "metadata": {
  "kernelspec": {
   "display_name": "cityscan",
   "language": "python",
   "name": "cityscan"
  },
  "language_info": {
   "codemirror_mode": {
    "name": "ipython",
    "version": 3
   },
   "file_extension": ".py",
   "mimetype": "text/x-python",
   "name": "python",
   "nbconvert_exporter": "python",
   "pygments_lexer": "ipython3",
   "version": "3.9.16"
  }
 },
 "nbformat": 4,
 "nbformat_minor": 5
}
