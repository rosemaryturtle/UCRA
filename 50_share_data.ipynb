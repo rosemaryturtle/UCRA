{
 "cells": [
  {
   "cell_type": "code",
   "execution_count": 2,
   "id": "baa168ca-436f-45f5-be22-123fdcd13dd8",
   "metadata": {},
   "outputs": [],
   "source": [
    "import os\n",
    "from shutil import copyfile\n",
    "from pathlib import Path\n",
    "import pandas as pd"
   ]
  },
  {
   "cell_type": "code",
   "execution_count": 3,
   "id": "e7229a49-9074-464d-9fcd-3464c7756277",
   "metadata": {},
   "outputs": [],
   "source": [
    "centroids = pd.read_csv('centroids.csv')\n",
    "cities = centroids.city"
   ]
  },
  {
   "cell_type": "code",
   "execution_count": 4,
   "id": "cdab2023-d59e-4e87-b346-ee13c23fca8a",
   "metadata": {},
   "outputs": [],
   "source": [
    "def create_folder(name):\n",
    "    try:\n",
    "        os.mkdir(name)\n",
    "    except FileExistsError:\n",
    "        pass"
   ]
  },
  {
   "cell_type": "markdown",
   "id": "80fc02d0-9219-432d-8127-6bf4a2a8f7eb",
   "metadata": {
    "tags": []
   },
   "source": [
    "### Share maps"
   ]
  },
  {
   "cell_type": "code",
   "execution_count": 4,
   "id": "7fbe211f-8ee6-4632-8a22-529e09108f0c",
   "metadata": {},
   "outputs": [],
   "source": [
    "ssps = ['1', '2', '3']"
   ]
  },
  {
   "cell_type": "code",
   "execution_count": 7,
   "id": "fa1970b5-2fe7-49db-abd4-90a89c3a0b4e",
   "metadata": {},
   "outputs": [],
   "source": [
    "map_folders = ['air', 'AOI', 'landslide', 'summer', 'fluvial', 'pluvial']\n",
    "for s in ssps:\n",
    "    for f in ['fu', 'pu']:\n",
    "        for y in ['2050', '2100']:\n",
    "            map_folders.append('bu_proj_' + f + '_ssp' + s + '_' + y)\n",
    "    for t in ['day', 'night']:\n",
    "        map_folders.append('summer_' + t + '_ssp' + s)\n",
    "for y in ['2050', '2100']:\n",
    "    for s in ['', '_RL10']:\n",
    "        map_folders.append('slr' + s + '_' + y)\n",
    "\n",
    "for i in map_folders:\n",
    "    create_folder(Path('maps') / i)"
   ]
  },
  {
   "cell_type": "code",
   "execution_count": 8,
   "id": "b322db61-7063-4932-ba15-3e4b1f633dc0",
   "metadata": {},
   "outputs": [],
   "source": [
    "def copy_file(city, orig_suffix, new_folder = '', new_suffix = ''):\n",
    "    city1 = city.lower().replace(' ', '_')\n",
    "    \n",
    "    if new_folder == '':\n",
    "        new_folder = orig_suffix\n",
    "    if new_suffix == '':\n",
    "        new_suffix = orig_suffix\n",
    "    \n",
    "    try:\n",
    "        copyfile(city / Path('maps') / (city1 + '_' + orig_suffix + '.png'), \n",
    "                 'maps' / Path(new_folder) / (city1 + '_' + new_suffix + '.png'))\n",
    "    except FileNotFoundError:\n",
    "        pass"
   ]
  },
  {
   "cell_type": "code",
   "execution_count": 10,
   "id": "aa430f3c-edc9-4553-862b-d9887d2282af",
   "metadata": {},
   "outputs": [],
   "source": [
    "for city in cities:\n",
    "    copy_file(city, 'air_fixedlabel_2019', 'air', 'air_quality')\n",
    "    copy_file(city, 'AOI')\n",
    "    copy_file(city, 'bu_proj_fu_ssp1_2050')\n",
    "    copy_file(city, 'bu_proj_fu_ssp1_2100')\n",
    "    copy_file(city, 'bu_proj_fu_ssp2_2050')\n",
    "    copy_file(city, 'bu_proj_fu_ssp2_2100')\n",
    "    copy_file(city, 'bu_proj_fu_ssp3_2050')\n",
    "    copy_file(city, 'bu_proj_fu_ssp3_2100')\n",
    "    copy_file(city, 'bu_proj_pu_ssp1_2050')\n",
    "    copy_file(city, 'bu_proj_pu_ssp1_2100')\n",
    "    copy_file(city, 'bu_proj_pu_ssp2_2050')\n",
    "    copy_file(city, 'bu_proj_pu_ssp2_2100')\n",
    "    copy_file(city, 'bu_proj_pu_ssp3_2050')\n",
    "    copy_file(city, 'bu_proj_pu_ssp3_2100')\n",
    "    copy_file(city, 'summer')\n",
    "    copy_file(city, 'summer_day_ssp1')\n",
    "    copy_file(city, 'summer_day_ssp2')\n",
    "    copy_file(city, 'summer_day_ssp3')\n",
    "    copy_file(city, 'summer_night_ssp1')\n",
    "    copy_file(city, 'summer_night_ssp2')\n",
    "    copy_file(city, 'summer_night_ssp3')\n",
    "    copy_file(city, 'WSF_fu', 'fluvial', 'fluvial')\n",
    "    copy_file(city, 'WSF_pu', 'pluvial', 'pluvial')\n",
    "    \n",
    "    city1 = city.lower().replace(' ', '_')\n",
    "    \n",
    "    if os.path.exists(Path(city) / 'data' / (city1 + '_landslide.tif')):\n",
    "        copy_file(city, 'LS', 'landslide', 'landslide')\n",
    "    \n",
    "    for y in ['2050', '2100']:\n",
    "        for s in ['', '_RL10']:\n",
    "            if os.path.exists(Path(city) / 'data' / (city1 + '_slr' + s + '_' + y + '.tif')):\n",
    "                copy_file(city, 'WSF_slr' + s + '_' + y, 'slr' + s + '_' + y, 'slr' + s + '_' + y)"
   ]
  },
  {
   "cell_type": "markdown",
   "id": "38c89b9d-465f-4b9c-8432-f94bf64ef2e2",
   "metadata": {},
   "source": [
    "### Share stats"
   ]
  },
  {
   "cell_type": "code",
   "execution_count": 5,
   "id": "b6388e30-fabf-4713-a4d2-ca67d5389e4f",
   "metadata": {},
   "outputs": [],
   "source": [
    "create_folder('stats/fluvial')\n",
    "create_folder('stats/pluvial')\n",
    "for y in ['2050', '2100']:\n",
    "    for s in ['', '_RL10']:\n",
    "        create_folder(Path('stats') / ('slr' + s + '_' + y))"
   ]
  },
  {
   "cell_type": "code",
   "execution_count": 7,
   "id": "e0cc512e-4e35-4d36-885c-a1bafdb11b19",
   "metadata": {},
   "outputs": [],
   "source": [
    "for city in cities:\n",
    "    city1 = city.lower().replace(' ', '_')\n",
    "    copyfile(Path(city) / 'stats' / 'wsf_fu.csv',\n",
    "             Path('stats') / 'fluvial' / (city1 + '_fluvial.csv'))\n",
    "    copyfile(Path(city) / 'stats' / 'wsf_pu.csv',\n",
    "             Path('stats') / 'pluvial' / (city1 + '_pluvial.csv'))\n",
    "    for y in ['2050', '2100']:\n",
    "        for s in ['', '_RL10']:\n",
    "            try:\n",
    "                copyfile(Path(city) / 'stats' / ('slr' + s + '_' + y + '.csv'),\n",
    "                         Path('stats') / ('slr' + s + '_' + y) / (city1 + '_slr' + s + '_' + y + '.csv'))\n",
    "            except FileNotFoundError:\n",
    "                pass"
   ]
  },
  {
   "cell_type": "markdown",
   "id": "732c7bcf-2f26-4248-b033-a8e6ab231985",
   "metadata": {},
   "source": [
    "### Share data files"
   ]
  },
  {
   "cell_type": "code",
   "execution_count": 14,
   "id": "ba8f4ab3-b272-4255-a69d-1e257b043186",
   "metadata": {},
   "outputs": [],
   "source": [
    "create_folder('share')\n",
    "create_folder('share/total_water_storage_anomaly')\n",
    "for city in cities:\n",
    "    create_folder(Path('share') / city)\n",
    "    create_folder(Path('share') / city / 'AOI')"
   ]
  },
  {
   "cell_type": "code",
   "execution_count": 9,
   "id": "3d8e357f-5610-4950-8226-3b3a7328e213",
   "metadata": {},
   "outputs": [],
   "source": [
    "for city in cities:\n",
    "    city1 = city.lower().replace(' ', '_')\n",
    "    # dictionary matching original raster file names and more readable file names that will be shared\n",
    "    # keys: original raster file names\n",
    "    # values: shareable file names\n",
    "    share_list = {city1 + '_air_quality.tif': city1 + '_air_quality.tif',\n",
    "                  city1 + '_landslide.tif': city1 + '_landslide.tif',\n",
    "                  city1 + '_Summer.tif': city1 + '_summer_temp.tif',\n",
    "                  city1 + '_WSF2019_4326.tif': city1 + '_settlement_2019.tif',\n",
    "                  city1 + '_WSFevolution_4326.tif': city1 + '_settlement_by_year.tif',\n",
    "                  'class1_fu.tif': city1 + '_fluvial_10pct.tif',\n",
    "                  'class1_pu.tif': city1 + '_pluvial_10pct.tif',\n",
    "                  'class2_fu.tif': city1 + '_fluvial_1-10pct.tif',\n",
    "                  'class2_pu.tif': city1 + '_pluvial_1-10pct.tif',\n",
    "                  'class3_fu.tif': city1 + '_fluvial_1pct.tif',\n",
    "                  'class3_pu.tif': city1 + '_pluvial_1pct.tif',\n",
    "                  city1 + '_bu_ssp1_2050.tif': city1 + '_built_up_projection_ssp1_2050.tif',\n",
    "                  city1 + '_bu_ssp1_2100.tif': city1 + '_built_up_projection_ssp1_2100.tif',\n",
    "                  city1 + '_bu_ssp2_2050.tif': city1 + '_built_up_projection_ssp2_2050.tif',\n",
    "                  city1 + '_bu_ssp2_2100.tif': city1 + '_built_up_projection_ssp2_2100.tif',\n",
    "                  city1 + '_bu_ssp3_2050.tif': city1 + '_built_up_projection_ssp3_2050.tif',\n",
    "                  city1 + '_bu_ssp3_2100.tif': city1 + '_built_up_projection_ssp3_2100.tif',\n",
    "                  city1 + '_lc.tif': city1 + '_landcover.tif',\n",
    "                  city1 + '_slr_2050.tif': city1 + '_slr_2050.tif',\n",
    "                  city1 + '_slr_2100.tif': city1 + '_slr_2100.tif',\n",
    "                  city1 + '_slr_RL10_2050.tif': city1 + '_slr_10pct_flood_2050.tif',\n",
    "                  city1 + '_slr_RL10_2100.tif': city1 + '_slr_10pct_flood_2100.tif',\n",
    "                  city1 + '_urban-ssp1_day_sum.tif': city1 + '_summer_day_temp_projection_ssp1.tif',\n",
    "                  city1 + '_urban-ssp1_nig_sum.tif': city1 + '_summer_night_temp_projection_ssp1.tif',\n",
    "                  city1 + '_urban-ssp2_day_sum.tif': city1 + '_summer_day_temp_projection_ssp2.tif',\n",
    "                  city1 + '_urban-ssp2_nig_sum.tif': city1 + '_summer_night_temp_projection_ssp2.tif',\n",
    "                  city1 + '_urban-ssp3_day_sum.tif': city1 + '_summer_day_temp_projection_ssp3.tif',\n",
    "                  city1 + '_urban-ssp3_nig_sum.tif': city1 + '_summer_night_temp_projection_ssp3.tif'}\n",
    "    \n",
    "    for file in share_list:\n",
    "        try:\n",
    "            copyfile(city / Path('output') / file, Path('share') / city / share_list[file])\n",
    "        except FileNotFoundError:\n",
    "            pass\n",
    "    \n",
    "    for shp_suf in ['cpg', 'dbf', 'prj', 'shp', 'shx']:\n",
    "        copyfile(city / Path('output') / 'AOI' / (city1 + '_AOI.' + shp_suf),\n",
    "                 Path('share') / city / 'AOI' / (city1 + '_AOI.' + shp_suf))\n",
    "        copyfile(city / Path('output') / city / ('edges.' + shp_suf),\n",
    "                 Path('share') / city / (city1 + '_roads.' + shp_suf))\n",
    "        copyfile(city / Path('output') / city / ('nodes.' + shp_suf),\n",
    "                 Path('share') / city / (city1 + '_intersections.' + shp_suf))\n",
    "        copyfile(city / Path('output') / ('FB_QK_data_' + city1 + '.' + shp_suf),\n",
    "                 Path('share') / city / (city1 + '_relative_wealth_index.' + shp_suf))\n",
    "        \n",
    "        try:\n",
    "            for infra in ['health', 'schools']:\n",
    "                copyfile(city / Path('output') / 'osm_infrastructure' / ('osm_' + infra + '.' + shp_suf),\n",
    "                         Path('share') / city / (city1 + '_' + infra + '.' + shp_suf))\n",
    "        except FileNotFoundError:\n",
    "            pass\n",
    "        \n",
    "        try:\n",
    "            for dist in ['1000', '2000', '3000']:\n",
    "                copyfile(city / Path('output') / (city.replace(' ', '_') + '_AOI_accessibility_health_isochrones_' + dist + 'm.' + shp_suf),\n",
    "                         Path('share') / city / (city.replace(' ', '_') + '_health_access_isochrones_' + dist + 'm.' + shp_suf))\n",
    "        except FileNotFoundError:\n",
    "            pass\n",
    "        \n",
    "        try:\n",
    "            for dist in ['800', '1600', '2400']:\n",
    "                copyfile(city / Path('output') / (city.replace(' ', '_') + '_AOI_accessibility_schools_isochrones_' + dist + 'm.' + shp_suf),\n",
    "                         Path('share') / city / (city.replace(' ', '_') + '_schools_access_isochrones_' + dist + 'm.' + shp_suf))\n",
    "        except FileNotFoundError:\n",
    "            pass"
   ]
  },
  {
   "cell_type": "code",
   "execution_count": 13,
   "id": "399671e5-004c-4f35-880d-8a2de1f10879",
   "metadata": {},
   "outputs": [],
   "source": [
    "city_coords = {'Battambang': (103.25, 13.25), \n",
    "               'Kampot': (104.25, 10.75),\n",
    "               'Kep': (104.25, 10.75),\n",
    "               'Poipet': (102.75, 13.75),\n",
    "               'Siem Reap': (103.75, 13.25),\n",
    "               'Sihanoukville': (103.75, 10.75),\n",
    "               'Khemarak Phumin': (103.25, 11.75)}\n",
    "\n",
    "for city in city_coords:\n",
    "    city1 = city.lower().replace(' ', '_')\n",
    "    for p in ['1', '12', '48']:\n",
    "        copyfile(Path('data') / ('spei' + p) / ('_' + str(city_coords[city][0]) + '0000_  ' + str(city_coords[city][1]) + '0000.csv'),\n",
    "                 Path('share') / city / (city1 + '_spei' + p + '.csv'))"
   ]
  },
  {
   "cell_type": "code",
   "execution_count": 20,
   "id": "a6198747-b017-4285-bad1-1b6e270fc6dd",
   "metadata": {},
   "outputs": [],
   "source": [
    "for y in range(2011, 2021):\n",
    "    for m in range(1, 13):\n",
    "        copyfile(Path('output') / 'drought' / ('twsan_' + str(y) + str(m).zfill(2) + '.tif'),\n",
    "                 Path('share') / 'total_water_storage_anomaly' / ('twsan_' + str(y) + str(m).zfill(2) + '.tif'))"
   ]
  }
 ],
 "metadata": {
  "kernelspec": {
   "display_name": "cityscan",
   "language": "python",
   "name": "cityscan"
  },
  "language_info": {
   "codemirror_mode": {
    "name": "ipython",
    "version": 3
   },
   "file_extension": ".py",
   "mimetype": "text/x-python",
   "name": "python",
   "nbconvert_exporter": "python",
   "pygments_lexer": "ipython3",
   "version": "3.9.16"
  }
 },
 "nbformat": 4,
 "nbformat_minor": 5
}
