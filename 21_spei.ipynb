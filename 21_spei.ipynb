{
 "cells": [
  {
   "cell_type": "code",
   "execution_count": null,
   "id": "1c9cdeda-2cea-40ef-9f80-1a265993e124",
   "metadata": {},
   "outputs": [],
   "source": [
    "# processes historical SPEI data"
   ]
  },
  {
   "cell_type": "code",
   "execution_count": 1,
   "id": "cc2aacca-23d1-4774-9fc6-c4d10aec81bf",
   "metadata": {},
   "outputs": [],
   "source": [
    "import xarray as xr\n",
    "import pandas as pd\n",
    "import numpy as np\n",
    "from pathlib import Path\n",
    "import glob\n",
    "import os"
   ]
  },
  {
   "cell_type": "code",
   "execution_count": 2,
   "id": "1d618768-dbbf-4540-b68f-18c9cdab3f7a",
   "metadata": {},
   "outputs": [],
   "source": [
    "data_folder = Path(r'F:\\World Bank\\City Scan\\data\\SPEI')  # change file path as needed"
   ]
  },
  {
   "cell_type": "code",
   "execution_count": 29,
   "id": "914651f7-23d1-4fab-87f9-1f90ce9ee820",
   "metadata": {},
   "outputs": [],
   "source": [
    "periods = ['01', '12', '48']\n",
    "years = range(2011, 2021)"
   ]
  },
  {
   "cell_type": "code",
   "execution_count": 4,
   "id": "89c7c849-d719-4584-966a-f70a73f3558f",
   "metadata": {},
   "outputs": [],
   "source": [
    "centroids = pd.read_csv('centroids.csv')"
   ]
  },
  {
   "cell_type": "code",
   "execution_count": 5,
   "id": "38e8f770-699a-4f7b-8251-a24dcd53515a",
   "metadata": {},
   "outputs": [
    {
     "data": {
      "text/html": [
       "<div>\n",
       "<style scoped>\n",
       "    .dataframe tbody tr th:only-of-type {\n",
       "        vertical-align: middle;\n",
       "    }\n",
       "\n",
       "    .dataframe tbody tr th {\n",
       "        vertical-align: top;\n",
       "    }\n",
       "\n",
       "    .dataframe thead th {\n",
       "        text-align: right;\n",
       "    }\n",
       "</style>\n",
       "<table border=\"1\" class=\"dataframe\">\n",
       "  <thead>\n",
       "    <tr style=\"text-align: right;\">\n",
       "      <th></th>\n",
       "      <th>city</th>\n",
       "      <th>x</th>\n",
       "      <th>y</th>\n",
       "      <th>utm</th>\n",
       "    </tr>\n",
       "  </thead>\n",
       "  <tbody>\n",
       "    <tr>\n",
       "      <th>0</th>\n",
       "      <td>Kinshasa</td>\n",
       "      <td>15.352551</td>\n",
       "      <td>-4.410595</td>\n",
       "      <td>32633</td>\n",
       "    </tr>\n",
       "    <tr>\n",
       "      <th>1</th>\n",
       "      <td>Kananga</td>\n",
       "      <td>22.419693</td>\n",
       "      <td>-5.893789</td>\n",
       "      <td>32634</td>\n",
       "    </tr>\n",
       "    <tr>\n",
       "      <th>2</th>\n",
       "      <td>Mbuji-Mayi</td>\n",
       "      <td>23.612801</td>\n",
       "      <td>-6.132235</td>\n",
       "      <td>32634</td>\n",
       "    </tr>\n",
       "    <tr>\n",
       "      <th>3</th>\n",
       "      <td>Lubumbashi</td>\n",
       "      <td>27.488133</td>\n",
       "      <td>-11.650550</td>\n",
       "      <td>32635</td>\n",
       "    </tr>\n",
       "    <tr>\n",
       "      <th>4</th>\n",
       "      <td>Kisangani</td>\n",
       "      <td>25.191068</td>\n",
       "      <td>0.523556</td>\n",
       "      <td>32635</td>\n",
       "    </tr>\n",
       "    <tr>\n",
       "      <th>5</th>\n",
       "      <td>Bukavu</td>\n",
       "      <td>28.847353</td>\n",
       "      <td>-2.518455</td>\n",
       "      <td>32635</td>\n",
       "    </tr>\n",
       "    <tr>\n",
       "      <th>6</th>\n",
       "      <td>Goma</td>\n",
       "      <td>29.198201</td>\n",
       "      <td>-1.639446</td>\n",
       "      <td>32635</td>\n",
       "    </tr>\n",
       "    <tr>\n",
       "      <th>7</th>\n",
       "      <td>Tshikapa</td>\n",
       "      <td>20.781687</td>\n",
       "      <td>-6.425809</td>\n",
       "      <td>32634</td>\n",
       "    </tr>\n",
       "    <tr>\n",
       "      <th>8</th>\n",
       "      <td>Mwene-Ditu</td>\n",
       "      <td>23.453712</td>\n",
       "      <td>-7.006963</td>\n",
       "      <td>32634</td>\n",
       "    </tr>\n",
       "    <tr>\n",
       "      <th>9</th>\n",
       "      <td>Gemena</td>\n",
       "      <td>19.789188</td>\n",
       "      <td>3.247033</td>\n",
       "      <td>32634</td>\n",
       "    </tr>\n",
       "    <tr>\n",
       "      <th>10</th>\n",
       "      <td>Gbadolite</td>\n",
       "      <td>21.002126</td>\n",
       "      <td>4.283399</td>\n",
       "      <td>32634</td>\n",
       "    </tr>\n",
       "    <tr>\n",
       "      <th>11</th>\n",
       "      <td>Matadi</td>\n",
       "      <td>13.465162</td>\n",
       "      <td>-5.837109</td>\n",
       "      <td>32633</td>\n",
       "    </tr>\n",
       "    <tr>\n",
       "      <th>12</th>\n",
       "      <td>Kikwit</td>\n",
       "      <td>18.808756</td>\n",
       "      <td>-5.047681</td>\n",
       "      <td>32634</td>\n",
       "    </tr>\n",
       "    <tr>\n",
       "      <th>13</th>\n",
       "      <td>Bunia</td>\n",
       "      <td>30.242589</td>\n",
       "      <td>1.555438</td>\n",
       "      <td>32636</td>\n",
       "    </tr>\n",
       "  </tbody>\n",
       "</table>\n",
       "</div>"
      ],
      "text/plain": [
       "          city          x          y    utm\n",
       "0     Kinshasa  15.352551  -4.410595  32633\n",
       "1      Kananga  22.419693  -5.893789  32634\n",
       "2   Mbuji-Mayi  23.612801  -6.132235  32634\n",
       "3   Lubumbashi  27.488133 -11.650550  32635\n",
       "4    Kisangani  25.191068   0.523556  32635\n",
       "5       Bukavu  28.847353  -2.518455  32635\n",
       "6         Goma  29.198201  -1.639446  32635\n",
       "7     Tshikapa  20.781687  -6.425809  32634\n",
       "8   Mwene-Ditu  23.453712  -7.006963  32634\n",
       "9       Gemena  19.789188   3.247033  32634\n",
       "10   Gbadolite  21.002126   4.283399  32634\n",
       "11      Matadi  13.465162  -5.837109  32633\n",
       "12      Kikwit  18.808756  -5.047681  32634\n",
       "13       Bunia  30.242589   1.555438  32636"
      ]
     },
     "execution_count": 5,
     "metadata": {},
     "output_type": "execute_result"
    }
   ],
   "source": [
    "centroids"
   ]
  },
  {
   "cell_type": "code",
   "execution_count": 72,
   "id": "d7fb4988-71f7-4b11-a2c7-90afe3fe197d",
   "metadata": {},
   "outputs": [],
   "source": [
    "spei_val = dict({p: dict({c: {} for c in centroids.city}) for p in periods})"
   ]
  },
  {
   "cell_type": "code",
   "execution_count": 73,
   "id": "44497caf-eb8f-45a0-beb8-5a6db6b32f2c",
   "metadata": {},
   "outputs": [],
   "source": [
    "for period in periods:\n",
    "    spei_nc = xr.open_dataset(data_folder / ('spei'+period+'.nc'))\n",
    "\n",
    "    for index, row in centroids.iterrows():\n",
    "        for year in years:\n",
    "            for month in range(1, 13):\n",
    "                time1 = str(year) + '-' + str(month) + '-15'\n",
    "                val = spei_nc.sel(lon = row['x'], lat = row['y'], time = time1, method = 'nearest')['spei'].to_dict()['data']\n",
    "                spei_val[period][row['city']][time1] = val"
   ]
  },
  {
   "cell_type": "code",
   "execution_count": 76,
   "id": "a5d7e82d-3ea6-429a-8f26-05028a31b8b6",
   "metadata": {},
   "outputs": [],
   "source": [
    "# write to csv\n",
    "for period in periods:\n",
    "    with open('stats/spei/spei'+period+'.csv', 'w') as f:\n",
    "        f.write('city,date,spei\\n')\n",
    "        for city in centroids.city:\n",
    "            for year in years:\n",
    "                for month in range(1, 13):\n",
    "                    time1 = str(year) + '-' + str(month) + '-15'\n",
    "                    f.write('%s,%s,%s\\n' % (city, time1, spei_val[period][city][time1]))"
   ]
  }
 ],
 "metadata": {
  "kernelspec": {
   "display_name": "cityscan",
   "language": "python",
   "name": "cityscan"
  },
  "language_info": {
   "codemirror_mode": {
    "name": "ipython",
    "version": 3
   },
   "file_extension": ".py",
   "mimetype": "text/x-python",
   "name": "python",
   "nbconvert_exporter": "python",
   "pygments_lexer": "ipython3",
   "version": "3.9.16"
  }
 },
 "nbformat": 4,
 "nbformat_minor": 5
}
